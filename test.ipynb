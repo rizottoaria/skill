#Получаем нужные значения:
import requests
import json
import pandas as pd
url = 'http://analytics.skillfactory.ru:5000/api/v1.0/get_structure_course/'
response=requests.post(url)
data=json.loads(response.text)
from pandas.io.json import json_normalize
data_frame=[]
import datetime
for i in data['blocks'].values():
  data_frame.append({'display_name':i['display_name'],'block_id':i['block_id']})
data_frame=pd.DataFrame(data_frame)
from natsort import natsorted, index_natsorted, order_by_index
data_frame=data_frame.reindex(index=order_by_index(data_frame.index, index_natsorted(data_frame.display_name)))
date_frame_for_sql=[]
for i in data['blocks'].values():
  date_frame_for_sql.append({'block_id':i['block_id'],'display_name':i['display_name'],'date':datetime.datetime.now()})
cols=data_frame.columns.tolist()
cols=cols[-1:]+cols[:-1]
date_frame_for_sql=pd.DataFrame(date_frame_for_sql)
date_frame_for_sql=date_frame_for_sql[['display_name','block_id','date']]
print(data_frame[cols])
#подключаемся к БД
import mysql.connector
from sqlalchemy import create_engine
engine = create_engine('mysql+mysqlconnector://[user]:[pass]@[host]:[port]/[schema]', echo=False)
date_frame_for_sql.to_sql(name='sample_table2', con=engine, if_exists = 'replace', index=False)
