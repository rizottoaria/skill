---
title: "Test_skillfactory"
author: "Oksana Laputskaya"
date: '14 октября 2019 г '
output: html_document
---

#Получаем нужные значения:
import requests
import json
import pandas as pd
url = 'http://analytics.skillfactory.ru:5000/api/v1.0/get_structure_course/'
response=requests.post(url)
data=json.loads(response.text)
from pandas.io.json import json_normalize
data_frame=[]
for i in data['blocks'].values():
  data_frame.append({'display_name':i['display_name'],'block_id':i['block_id']})
data_frame=pd.DataFrame(data_frame).sort_values(by=['display_name'])
data=data_frame.to_dict(orient='records')

#Скрипт для коннекта и записи в базу:

import mysql.connector
conn=mysql.connector('localhost')##путь к базе
cursor=conn.cursor()
qmarks=', '.join('?' * len(data))
qry=""" DROP TABLE IF EXISTS (%s)
CREATE TABLE (%s)
INSERT INTO Table (%s) Values (%s)"""
cursor.execute(qry,data.keys()+data.values())
conn.close()
