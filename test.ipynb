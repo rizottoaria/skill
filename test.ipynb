#Получаем нужные значения:
import requests
import json
import pandas as pd
url = 'http://analytics.skillfactory.ru:5000/api/v1.0/get_structure_course/'
response=requests.post(url)
data=json.loads(response.text)
from pandas.io.json import json_normalize
data_frame=[]
for i in data['blocks'].values():
  data_frame.append({'display_name':i['display_name'],'block_id':i['block_id'],'date':datetime.datetime.now()})
data_frame=pd.DataFrame(data_frame)
from natsort import natsorted, index_natsorted, order_by_index
data_frame=data_frame.reindex(index=order_by_index(data_frame.index, index_natsorted(data_frame.display_name)))
data=data_frame.to_dict(orient='records')

#Скрипт для коннекта и записи в базу:

import mysql.connector
conn=mysql.connector.connect('localhost')##путь к базе
cursor=conn.cursor()
qmarks=', '.join('?' * len(data))
qry=""" DROP TABLE IF EXISTS dat
CREATE TABLE dat
INSERT INTO Table dat Values (%s)""" % (qmarks,qmarks)
cursor.execute(qry,data.keys()+data.values())
conn.close()
